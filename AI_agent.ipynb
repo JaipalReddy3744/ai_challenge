{
  "nbformat": 4,
  "nbformat_minor": 0,
  "metadata": {
    "colab": {
      "provenance": []
    },
    "kernelspec": {
      "name": "python3",
      "display_name": "Python 3"
    },
    "language_info": {
      "name": "python"
    }
  },
  "cells": [
    {
      "cell_type": "code",
      "source": [
        "import requests\n",
        "import markdown\n",
        "from IPython.display import display, HTML\n",
        "\n",
        "url = \"https://api.langflow.astra.datastax.com/lf/96d8aba8-ba94-415f-b55f-f49793777044/api/v1/run/f1c7901c-4754-4c35-a681-ebcbdbdf04c2\"\n",
        "headers = {\n",
        "    \"Content-Type\": \"application/json\",\n",
        "    \"Authorization\": \"Bearer AstraCS:wKoRLJRCkYRKUXYgiwRfonio:ce6c6e6a984cff8fbdafcefd3c406a4276ed55148df3395b54ef34bfc5da8df7\"\n",
        "}\n",
        "\n",
        "chat_history = \"\"\n",
        "\n",
        "intro_md = \"**HR AI Companion (type 'exit' to quit)**\"\n",
        "intro_html = markdown.markdown(intro_md)\n",
        "display(HTML(intro_html))\n",
        "\n",
        "while True:\n",
        "\n",
        "    user_label_html = markdown.markdown(\"**You:**\")\n",
        "    display(HTML(user_label_html))\n",
        "    user_input = input()\n",
        "\n",
        "    if user_input.lower() in [\"exit\", \"quit\"]:\n",
        "        exit_html = markdown.markdown(\"**👋 Ending chat.**\")\n",
        "        display(HTML(exit_html))\n",
        "        break\n",
        "\n",
        "    chat_history += f\"User: {user_input}\\n\"\n",
        "    payload = {\"input_value\": chat_history.strip(),\n",
        "               \"output_type\": \"chat\",\n",
        "               \"input_type\": \"chat\"}\n",
        "\n",
        "    try:\n",
        "        response = requests.post(url, headers=headers, json=payload)\n",
        "        response.raise_for_status()\n",
        "\n",
        "        result_json = response.json()\n",
        "        reply_text = result_json[\"outputs\"][0][\"outputs\"][0][\"results\"][\"message\"][\"text\"]\n",
        "\n",
        "        reply_md = f\"**Agent reply:**\\n\\n{reply_text}\"\n",
        "        reply_html = markdown.markdown(reply_md)\n",
        "        display(HTML(reply_html))\n",
        "\n",
        "        chat_history += f\"Agent: {reply_text}\\n\"\n",
        "\n",
        "    except requests.exceptions.RequestException as e:\n",
        "        error_html = markdown.markdown(f\"**Error:** {e}\")\n",
        "        display(HTML(error_html))\n",
        "    except ValueError as e:\n",
        "        error_html = markdown.markdown(f\"**Error parsing response:** {e}\")\n",
        "        display(HTML(error_html))"
      ],
      "metadata": {
        "colab": {
          "base_uri": "https://localhost:8080/",
          "height": 1000
        },
        "id": "DVaEi0Rz09cv",
        "outputId": "9dfd8a8a-5d1f-493d-d31c-f49706c7b032"
      },
      "execution_count": 28,
      "outputs": [
        {
          "output_type": "display_data",
          "data": {
            "text/plain": [
              "<IPython.core.display.HTML object>"
            ],
            "text/html": [
              "<p><strong>HR AI Companion (type 'exit' to quit)</strong></p>"
            ]
          },
          "metadata": {}
        },
        {
          "output_type": "display_data",
          "data": {
            "text/plain": [
              "<IPython.core.display.HTML object>"
            ],
            "text/html": [
              "<p><strong>You:</strong></p>"
            ]
          },
          "metadata": {}
        },
        {
          "name": "stdout",
          "output_type": "stream",
          "text": [
            "Hello\n"
          ]
        },
        {
          "output_type": "display_data",
          "data": {
            "text/plain": [
              "<IPython.core.display.HTML object>"
            ],
            "text/html": [
              "<p><strong>Agent reply:</strong></p>\n",
              "<p>Hello! How can I assist you today? Are you looking to hire someone or need help with something else?</p>"
            ]
          },
          "metadata": {}
        },
        {
          "output_type": "display_data",
          "data": {
            "text/plain": [
              "<IPython.core.display.HTML object>"
            ],
            "text/html": [
              "<p><strong>You:</strong></p>"
            ]
          },
          "metadata": {}
        },
        {
          "name": "stdout",
          "output_type": "stream",
          "text": [
            "I need to hire an Full Stack Developer \n"
          ]
        },
        {
          "output_type": "display_data",
          "data": {
            "text/plain": [
              "<IPython.core.display.HTML object>"
            ],
            "text/html": [
              "<p><strong>Agent reply:</strong></p>\n",
              "<p>Great! Let's start by discussing the details for the Full Stack Developer role. What is the budget for this position?</p>"
            ]
          },
          "metadata": {}
        },
        {
          "output_type": "display_data",
          "data": {
            "text/plain": [
              "<IPython.core.display.HTML object>"
            ],
            "text/html": [
              "<p><strong>You:</strong></p>"
            ]
          },
          "metadata": {}
        },
        {
          "name": "stdout",
          "output_type": "stream",
          "text": [
            "150,000 USD\n"
          ]
        },
        {
          "output_type": "display_data",
          "data": {
            "text/plain": [
              "<IPython.core.display.HTML object>"
            ],
            "text/html": [
              "<p><strong>Agent reply:</strong></p>\n",
              "<p>Thank you for providing the budget. Here's what we have so far:</p>\n",
              "<ul>\n",
              "<li><strong>Budget</strong>: $150,000 USD per year</li>\n",
              "</ul>\n",
              "<p>Next, could you please tell me what skills are required for the Full Stack Developer position?</p>"
            ]
          },
          "metadata": {}
        },
        {
          "output_type": "display_data",
          "data": {
            "text/plain": [
              "<IPython.core.display.HTML object>"
            ],
            "text/html": [
              "<p><strong>You:</strong></p>"
            ]
          },
          "metadata": {}
        },
        {
          "name": "stdout",
          "output_type": "stream",
          "text": [
            "React, Java, MongoDB, JavaScript \n"
          ]
        },
        {
          "output_type": "display_data",
          "data": {
            "text/plain": [
              "<IPython.core.display.HTML object>"
            ],
            "text/html": [
              "<p><strong>Agent reply:</strong></p>\n",
              "<p>Thank you for providing the required skills. Here's what we have so far:</p>\n",
              "<ul>\n",
              "<li><strong>Budget</strong>: $150,000 USD per year</li>\n",
              "<li><strong>Required Skills</strong>: React, Java, MongoDB, JavaScript</li>\n",
              "</ul>\n",
              "<p>Next, could you please let me know the expected timeline to hire for this position?</p>"
            ]
          },
          "metadata": {}
        },
        {
          "output_type": "display_data",
          "data": {
            "text/plain": [
              "<IPython.core.display.HTML object>"
            ],
            "text/html": [
              "<p><strong>You:</strong></p>"
            ]
          },
          "metadata": {}
        },
        {
          "name": "stdout",
          "output_type": "stream",
          "text": [
            "2-3 months \n"
          ]
        },
        {
          "output_type": "display_data",
          "data": {
            "text/plain": [
              "<IPython.core.display.HTML object>"
            ],
            "text/html": [
              "<p><strong>Agent reply:</strong></p>\n",
              "<p>Thank you for the timeline. Here's what we have so far:</p>\n",
              "<ul>\n",
              "<li><strong>Budget</strong>: $150,000 USD per year</li>\n",
              "<li><strong>Required Skills</strong>: React, Java, MongoDB, JavaScript</li>\n",
              "<li><strong>Expected Timeline to Hire</strong>: 2-3 months</li>\n",
              "</ul>\n",
              "<p>Could you please let me know the job location or if there's a preference for remote work?</p>"
            ]
          },
          "metadata": {}
        },
        {
          "output_type": "display_data",
          "data": {
            "text/plain": [
              "<IPython.core.display.HTML object>"
            ],
            "text/html": [
              "<p><strong>You:</strong></p>"
            ]
          },
          "metadata": {}
        },
        {
          "name": "stdout",
          "output_type": "stream",
          "text": [
            "New York\n"
          ]
        },
        {
          "output_type": "display_data",
          "data": {
            "text/plain": [
              "<IPython.core.display.HTML object>"
            ],
            "text/html": [
              "<p><strong>Agent reply:</strong></p>\n",
              "<p>Thank you for providing the job location. Here's the information we have so far:</p>\n",
              "<ul>\n",
              "<li><strong>Budget</strong>: $150,000 USD per year</li>\n",
              "<li><strong>Required Skills</strong>: React, Java, MongoDB, JavaScript</li>\n",
              "<li><strong>Expected Timeline to Hire</strong>: 2-3 months</li>\n",
              "<li><strong>Job Location</strong>: New York</li>\n",
              "</ul>\n",
              "<p>Finally, could you please let me know the expected experience level for the Full Stack Developer role?</p>"
            ]
          },
          "metadata": {}
        },
        {
          "output_type": "display_data",
          "data": {
            "text/plain": [
              "<IPython.core.display.HTML object>"
            ],
            "text/html": [
              "<p><strong>You:</strong></p>"
            ]
          },
          "metadata": {}
        },
        {
          "name": "stdout",
          "output_type": "stream",
          "text": [
            "3 years \n"
          ]
        },
        {
          "output_type": "display_data",
          "data": {
            "text/plain": [
              "<IPython.core.display.HTML object>"
            ],
            "text/html": [
              "<p><strong>Agent reply:</strong></p>\n",
              "<p>Thank you for providing all the details. Here's a summary of the Full Stack Developer role:</p>\n",
              "<ul>\n",
              "<li><strong>Budget</strong>: $150,000 USD per year</li>\n",
              "<li><strong>Required Skills</strong>: React, Java, MongoDB, JavaScript</li>\n",
              "<li><strong>Expected Timeline to Hire</strong>: 2-3 months</li>\n",
              "<li><strong>Job Location</strong>: New York</li>\n",
              "<li><strong>Expected Experience Level</strong>: 3 years</li>\n",
              "</ul>\n",
              "<p>Would you like to proceed with creating a job description or a hiring checklist?</p>"
            ]
          },
          "metadata": {}
        },
        {
          "output_type": "display_data",
          "data": {
            "text/plain": [
              "<IPython.core.display.HTML object>"
            ],
            "text/html": [
              "<p><strong>You:</strong></p>"
            ]
          },
          "metadata": {}
        },
        {
          "name": "stdout",
          "output_type": "stream",
          "text": [
            "Yes I need job Descrition \n"
          ]
        },
        {
          "output_type": "display_data",
          "data": {
            "text/plain": [
              "<IPython.core.display.HTML object>"
            ],
            "text/html": [
              "<p><strong>Agent reply:</strong></p>\n",
              "<p>Here's a draft for the Full Stack Developer job description based on the details you've provided:</p>\n",
              "<hr />\n",
              "<h1>Full Stack Developer Job Description</h1>\n",
              "<p><strong>Location:</strong> New York<br />\n",
              "<strong>Budget:</strong> $150,000 USD per year<br />\n",
              "<strong>Expected Timeline to Hire:</strong> 2-3 months<br />\n",
              "<strong>Experience Level:</strong> 3 years</p>\n",
              "<h2>About the Role</h2>\n",
              "<p>We are seeking a skilled and experienced Full Stack Developer to join our team in New York. This role offers an exciting opportunity to work on innovative projects and contribute to the development of cutting-edge applications.</p>\n",
              "<h2>Responsibilities</h2>\n",
              "<ul>\n",
              "<li>Develop and maintain web applications using React, Java, MongoDB, and JavaScript.</li>\n",
              "<li>Collaborate with cross-functional teams to define, design, and ship new features.</li>\n",
              "<li>Ensure the performance, quality, and responsiveness of applications.</li>\n",
              "<li>Identify and correct bottlenecks and fix bugs.</li>\n",
              "<li>Help maintain code quality, organization, and automation.</li>\n",
              "</ul>\n",
              "<h2>Required Skills</h2>\n",
              "<ul>\n",
              "<li>Proficiency in React, Java, MongoDB, and JavaScript.</li>\n",
              "<li>Strong understanding of front-end and back-end development.</li>\n",
              "<li>Experience with RESTful APIs and web services.</li>\n",
              "<li>Ability to work collaboratively in a team environment.</li>\n",
              "<li>Excellent problem-solving and analytical skills.</li>\n",
              "</ul>\n",
              "<h2>Qualifications</h2>\n",
              "<ul>\n",
              "<li>3 years of relevant experience in full stack development.</li>\n",
              "<li>Bachelor's degree in Computer Science, Engineering, or a related discipline.</li>\n",
              "</ul>\n",
              "<h2>Benefits</h2>\n",
              "<ul>\n",
              "<li>Competitive salary.</li>\n",
              "<li>Opportunity to work on innovative projects.</li>\n",
              "<li>Gain valuable experience and mentorship from industry experts.</li>\n",
              "</ul>\n",
              "<hr />\n",
              "<p>If you need any changes or additional information, feel free to let me know!</p>"
            ]
          },
          "metadata": {}
        },
        {
          "output_type": "display_data",
          "data": {
            "text/plain": [
              "<IPython.core.display.HTML object>"
            ],
            "text/html": [
              "<p><strong>You:</strong></p>"
            ]
          },
          "metadata": {}
        },
        {
          "name": "stdout",
          "output_type": "stream",
          "text": [
            "Get me the checklist for hiring as well\n"
          ]
        },
        {
          "output_type": "display_data",
          "data": {
            "text/plain": [
              "<IPython.core.display.HTML object>"
            ],
            "text/html": [
              "<p><strong>Agent reply:</strong></p>\n",
              "<p>Here's a hiring checklist for the Full Stack Developer role:</p>\n",
              "<hr />\n",
              "<h1>Full Stack Developer Hiring Checklist</h1>\n",
              "<h2>Sourcing</h2>\n",
              "<ul>\n",
              "<li>[ ] Post the job description on relevant job boards and company website.</li>\n",
              "<li>[ ] Share the job opening on social media platforms and professional networks.</li>\n",
              "<li>[ ] Reach out to university career centers and relevant academic departments.</li>\n",
              "<li>[ ] Utilize employee referrals to find potential candidates.</li>\n",
              "</ul>\n",
              "<h2>Screening</h2>\n",
              "<ul>\n",
              "<li>[ ] Review resumes and cover letters for relevant skills and experience.</li>\n",
              "<li>[ ] Shortlist candidates who meet the required skills and experience level.</li>\n",
              "<li>[ ] Conduct initial phone screenings to assess candidate interest and fit.</li>\n",
              "</ul>\n",
              "<h2>Interviewing</h2>\n",
              "<ul>\n",
              "<li>[ ] Schedule interviews with shortlisted candidates.</li>\n",
              "<li>[ ] Prepare interview questions focusing on React, Java, MongoDB, and JavaScript.</li>\n",
              "<li>[ ] Conduct technical assessments or coding tests if necessary.</li>\n",
              "<li>[ ] Evaluate candidates based on problem-solving skills and cultural fit.</li>\n",
              "</ul>\n",
              "<h2>Offer</h2>\n",
              "<ul>\n",
              "<li>[ ] Select the top candidate based on interview performance and assessments.</li>\n",
              "<li>[ ] Prepare and send a formal offer letter outlining the role, budget, and benefits.</li>\n",
              "<li>[ ] Negotiate terms if necessary and finalize the offer.</li>\n",
              "<li>[ ] Onboard the new developer and introduce them to the team.</li>\n",
              "</ul>\n",
              "<hr />\n",
              "<p>Feel free to let me know if you need any modifications or additional details!</p>"
            ]
          },
          "metadata": {}
        },
        {
          "output_type": "display_data",
          "data": {
            "text/plain": [
              "<IPython.core.display.HTML object>"
            ],
            "text/html": [
              "<p><strong>You:</strong></p>"
            ]
          },
          "metadata": {}
        },
        {
          "name": "stdout",
          "output_type": "stream",
          "text": [
            "exit\n"
          ]
        },
        {
          "output_type": "display_data",
          "data": {
            "text/plain": [
              "<IPython.core.display.HTML object>"
            ],
            "text/html": [
              "<p><strong>👋 Ending chat.</strong></p>"
            ]
          },
          "metadata": {}
        }
      ]
    }
  ]
}